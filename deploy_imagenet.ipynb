{
 "cells": [
  {
   "cell_type": "code",
   "execution_count": null,
   "metadata": {},
   "outputs": [],
   "source": [
    "import torch\n",
    "import torch.nn as nn\n",
    "import torch.nn.functional as F\n",
    "import torch.autograd\n",
    "\n",
    "import torchvision\n",
    "import torchvision.datasets as datasets\n",
    "import torchvision.transforms as transforms\n",
    "import numpy as np\n",
    "\n",
    "# setup dev\n",
    "device = device = torch.device(\"cuda:1\")\n",
    "print(\"device is\", device)\n",
    "\n",
    "# setup net\n",
    "model = torchvision.models.vgg19(pretrained=True).to(device)\n",
    "print(\"model is \", model)"
   ]
  },
  {
   "cell_type": "code",
   "execution_count": null,
   "metadata": {},
   "outputs": [],
   "source": [
    "%load_ext autoreload\n",
    "%autoreload 1\n",
    "%aimport deploy.dataloader\n",
    "%aimport deploy.misc\n",
    "%aimport methods.grad_cam\n",
    "%aimport methods.grad_based\n",
    "%aimport methods.occlusion"
   ]
  },
  {
   "cell_type": "code",
   "execution_count": null,
   "metadata": {},
   "outputs": [],
   "source": [
    "from torchvision.transforms import ToTensor, RandomCrop, CenterCrop, Resize\n",
    "from deploy.dataloader import *\n",
    "\n",
    "def transform(img):\n",
    "    \"\"\" shift color axes to back \"\"\"\n",
    "    return np.swapaxes(np.swapaxes(img, 0, 2), 0, 1)\n",
    "\n",
    "def prepare(img):\n",
    "    img = Resize(256)(img)\n",
    "    #img = RandomCrop((224,224))(img)\n",
    "    img = CenterCrop((224,224))(img)\n",
    "    img = ToTensor()(img)\n",
    "    img = img.unsqueeze(0)\n",
    "    img = img.to(device)\n",
    "    return img\n",
    "\n",
    "# setup data\n",
    "filename = '../data/imagenet_full/imagenet.hdf5'\n",
    "show_loader = ImageNetDataset(filename, train=False)\n",
    "dct = None\n",
    "with open('../data/imagenet_full/dict.txt', encoding='utf-8') as data_file:\n",
    "    dct = yaml.load(data_file.read())\n"
   ]
  },
  {
   "cell_type": "code",
   "execution_count": null,
   "metadata": {
    "scrolled": true
   },
   "outputs": [],
   "source": [
    "from methods.grad_based import *\n",
    "from methods.grad_cam import *\n",
    "from methods.occlusion import *\n",
    "from deploy.misc import *\n",
    "\n",
    "layer = find_layer(model.features, \"34\")\n",
    "gc = GradCAM(model=model, device=device, layer=layer)\n",
    "\n",
    "viz = Overlay()\n",
    "\n",
    "methods = []\n",
    "methods.append(gc)\n",
    "#methods.append(Occlusion(model=model, size=20, stride=10))\n",
    "#methods.append(Occlusion(model=model, size=20, stride=10, patch_type=\"color\", patch_value=0.0))\n",
    "#methods.append(Occlusion(model=model, size=25, stride=2, patch_type=\"inv\"))\n",
    "#methods.append(Occlusion(model=model, size=10, patch_type=\"inv\"))\n",
    "#methods.append(SmoothGrad(model=model, steps=1,std=0)) # = gradients\n",
    "#methods.append(SmoothGrad(model=model, steps=30,std=0.2))\n",
    "#methods.append(SmoothGrad(model=model, steps=1,std=0, cc_transform=\"mean\")) # gradients\n",
    "#methods.append(SmoothGrad(model=model, std=0, times_input=True))\n",
    "#methods.append(SmoothGrad(model=model, times_input=True))\n",
    "#methods.append(IntegratedGradients(model=model, steps=50, mode=\"logits\"))\n",
    "#methods.append(IntegratedGradients(model=model, steps=50, mode=\"probs\"))\n",
    "#methods.append(IntegratedGradients(model=model, steps=50, baseline=0, cc_transform=\"mean\"))\n",
    "\n",
    "\n",
    "for i, (img, real_label) in enumerate(show_loader):\n",
    "    if i == 4:\n",
    "        print(dct[real_label])\n",
    "        img = prepare(img)\n",
    "        maps = compare_methods(methods, \n",
    "                               model=model, \n",
    "                               img=img, \n",
    "                               eval_class=None, \n",
    "                               img_trafo=transform, \n",
    "                               blur=0,\n",
    "                               viz=viz)\n",
    "        break"
   ]
  },
  {
   "cell_type": "code",
   "execution_count": null,
   "metadata": {},
   "outputs": [],
   "source": []
  },
  {
   "cell_type": "code",
   "execution_count": null,
   "metadata": {},
   "outputs": [],
   "source": []
  },
  {
   "cell_type": "code",
   "execution_count": null,
   "metadata": {},
   "outputs": [],
   "source": []
  }
 ],
 "metadata": {
  "kernelspec": {
   "display_name": "Python 3",
   "language": "python",
   "name": "python3"
  },
  "language_info": {
   "codemirror_mode": {
    "name": "ipython",
    "version": 3
   },
   "file_extension": ".py",
   "mimetype": "text/x-python",
   "name": "python",
   "nbconvert_exporter": "python",
   "pygments_lexer": "ipython3",
   "version": "3.6.6"
  }
 },
 "nbformat": 4,
 "nbformat_minor": 2
}
