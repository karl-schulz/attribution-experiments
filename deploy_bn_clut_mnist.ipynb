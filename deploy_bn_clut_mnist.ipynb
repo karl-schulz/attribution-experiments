{
 "cells": [
  {
   "cell_type": "code",
   "execution_count": null,
   "metadata": {},
   "outputs": [],
   "source": [
    "from sacred import Experiment\n",
    "%load_ext autoreload\n",
    "%autoreload 2"
   ]
  },
  {
   "cell_type": "code",
   "execution_count": null,
   "metadata": {},
   "outputs": [],
   "source": [
    "from deploy.clut_mnist_project import *\n",
    "from mlproject import data\n",
    "\n",
    "ex_name = \"clut-mnist_all-cnn-96\"\n",
    "ex = Experiment(interactive=True, name=ex_name)\n",
    "ex.add_config({\n",
    "    'batch_size': 90,\n",
    "    'n_epochs':  5,\n",
    "    'lr': 0.0003,\n",
    "    'opt': 'sgd',\n",
    "    'momentum': 0.9,\n",
    "    'clutters': 21,\n",
    "    'device': 'cuda:1',\n",
    "    'beta': 0.00001,\n",
    "    'beta_fadein': [0, 0, 0.3, 0.7, 1],\n",
    "    'train_samples':60021,\n",
    "    'data_dir': '../../data/cluttered_mnist_60021',\n",
    "    'model_dir': \"experiments/\"+ex_name+\"/models\",\n",
    "})\n",
    "\n",
    "proj = None\n",
    "@ex.main\n",
    "def main(_run):\n",
    "    global proj\n",
    "    proj = ClutteredMNISTProject.from_run(_run)\n",
    "    print(proj.setup.model.family())\n",
    "    proj.data_example()\n",
    "    proj.test()\n",
    "    proj.train()\n",
    "    proj.test()\n",
    "    proj.visualize_info_dropout(proj.holder.model.get_info_layers())\n",
    "ex.run()\n"
   ]
  },
  {
   "cell_type": "code",
   "execution_count": null,
   "metadata": {},
   "outputs": [],
   "source": [
    "\n",
    "proj.visualize_info_dropout(proj.setup.model.get_info_layers())"
   ]
  },
  {
   "cell_type": "code",
   "execution_count": null,
   "metadata": {},
   "outputs": [],
   "source": [
    "import torch.nn as nn\n",
    "gen = list(list(nn.Conv2d(64, 64, 2).parameters()) for i in range(0,10)) #proj.holder.model.noised.alpha_bn.parameters()\n",
    "p = list(gen)\n",
    "for pa in p:\n",
    "    print(pa.mean())\n",
    "\n",
    "gen = proj.holder.model.noised.alpha_conv.parameters() #proj.holder.model.noised.alpha_bn.parameters()\n",
    "p = list(gen)\n",
    "for pa in p:\n",
    "    print(pa.mean())"
   ]
  },
  {
   "cell_type": "code",
   "execution_count": null,
   "metadata": {},
   "outputs": [],
   "source": []
  }
 ],
 "metadata": {
  "kernelspec": {
   "display_name": "Python 3",
   "language": "python",
   "name": "python3"
  },
  "language_info": {
   "codemirror_mode": {
    "name": "ipython",
    "version": 3
   },
   "file_extension": ".py",
   "mimetype": "text/x-python",
   "name": "python",
   "nbconvert_exporter": "python",
   "pygments_lexer": "ipython3",
   "version": "3.6.5"
  }
 },
 "nbformat": 4,
 "nbformat_minor": 2
}
